{
  "nbformat": 4,
  "nbformat_minor": 0,
  "metadata": {
    "colab": {
      "provenance": [],
      "authorship_tag": "ABX9TyNHIX7bfs0/KF+PD8BtEixN",
      "include_colab_link": true
    },
    "kernelspec": {
      "name": "python3",
      "display_name": "Python 3"
    },
    "language_info": {
      "name": "python"
    }
  },
  "cells": [
    {
      "cell_type": "markdown",
      "metadata": {
        "id": "view-in-github",
        "colab_type": "text"
      },
      "source": [
        "<a href=\"https://colab.research.google.com/github/JS-070/test/blob/main/Recap_3.ipynb\" target=\"_parent\"><img src=\"https://colab.research.google.com/assets/colab-badge.svg\" alt=\"Open In Colab\"/></a>"
      ]
    },
    {
      "cell_type": "code",
      "execution_count": 2,
      "metadata": {
        "colab": {
          "base_uri": "https://localhost:8080/"
        },
        "id": "P2a8lfFqvw8Y",
        "outputId": "37f5ab1b-87a4-489c-9171-f5a68fff62e3"
      },
      "outputs": [
        {
          "output_type": "stream",
          "name": "stdout",
          "text": [
            "Hello my name is JIsu\n",
            "and I am 27 years old\n"
          ]
        }
      ],
      "source": [
        "my_name = \"JIsu\"\n",
        "age = 27\n",
        "dead = False\n",
        "print(\"Hello my name is\", my_name)\n",
        "print(\"and I am\", age, \"years old\")"
      ]
    },
    {
      "cell_type": "code",
      "source": [],
      "metadata": {
        "id": "gmFQH1y1xfLL"
      },
      "execution_count": null,
      "outputs": []
    }
  ]
}