{
  "nbformat": 4,
  "nbformat_minor": 0,
  "metadata": {
    "colab": {
      "provenance": [],
      "authorship_tag": "ABX9TyNzdIg9UISVIE1Xbb2Lg2kE",
      "include_colab_link": true
    },
    "kernelspec": {
      "name": "python3",
      "display_name": "Python 3"
    },
    "language_info": {
      "name": "python"
    }
  },
  "cells": [
    {
      "cell_type": "markdown",
      "metadata": {
        "id": "view-in-github",
        "colab_type": "text"
      },
      "source": [
        "<a href=\"https://colab.research.google.com/github/JS-070/test/blob/main/Variables_1.ipynb\" target=\"_parent\"><img src=\"https://colab.research.google.com/assets/colab-badge.svg\" alt=\"Open In Colab\"/></a>"
      ]
    },
    {
      "cell_type": "code",
      "execution_count": 2,
      "metadata": {
        "colab": {
          "base_uri": "https://localhost:8080/"
        },
        "id": "DbjlQ4U2Byo8",
        "outputId": "6e52f9ad-42f2-4da0-97fe-9760e4270545"
      },
      "outputs": [
        {
          "output_type": "stream",
          "name": "stdout",
          "text": [
            "Hello World!\n"
          ]
        }
      ],
      "source": [
        "print(\"Hello World!\")"
      ]
    },
    {
      "cell_type": "markdown",
      "source": [
        "#변수의 특징\n",
        "\n",
        "### 1. 파이썬 코드는 위에서 아래로 읽는다!!!!\n",
        "### 2. a, b, c -> 값을 저장하고, 데이터에 이름을 붙이는 것.(이것을 variables)\n",
        "### 3. varialbes(변수)에 공백이 있어서는 안된다.\n",
        "### 4. varialbes(변수)에 첫 문자로 숫자가 오면 안된다."
      ],
      "metadata": {
        "id": "qG6DPOmJDqGP"
      }
    },
    {
      "cell_type": "code",
      "source": [
        "a = 2\n",
        "b = 3\n",
        "c = a + b\n",
        "print(c)"
      ],
      "metadata": {
        "colab": {
          "base_uri": "https://localhost:8080/"
        },
        "id": "afQcx0noDNWR",
        "outputId": "8e8077f4-db9c-49b1-f58f-23a9e73a0595"
      },
      "execution_count": 3,
      "outputs": [
        {
          "output_type": "stream",
          "name": "stdout",
          "text": [
            "5\n"
          ]
        }
      ]
    },
    {
      "cell_type": "code",
      "source": [],
      "metadata": {
        "id": "OuA6tzVTDZQx"
      },
      "execution_count": null,
      "outputs": []
    }
  ]
}