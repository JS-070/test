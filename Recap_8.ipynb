{
  "nbformat": 4,
  "nbformat_minor": 0,
  "metadata": {
    "colab": {
      "provenance": [],
      "authorship_tag": "ABX9TyOuShd27ft80cPLAMR9c3uN",
      "include_colab_link": true
    },
    "kernelspec": {
      "name": "python3",
      "display_name": "Python 3"
    },
    "language_info": {
      "name": "python"
    }
  },
  "cells": [
    {
      "cell_type": "markdown",
      "metadata": {
        "id": "view-in-github",
        "colab_type": "text"
      },
      "source": [
        "<a href=\"https://colab.research.google.com/github/JS-070/test/blob/main/Recap_8.ipynb\" target=\"_parent\"><img src=\"https://colab.research.google.com/assets/colab-badge.svg\" alt=\"Open In Colab\"/></a>"
      ]
    },
    {
      "cell_type": "code",
      "execution_count": null,
      "metadata": {
        "colab": {
          "base_uri": "https://localhost:8080/"
        },
        "id": "PG_eBiiv5lqf",
        "outputId": "88a35ae6-48e3-400a-c74c-4a7d741eb68a"
      },
      "outputs": [
        {
          "output_type": "stream",
          "name": "stdout",
          "text": [
            "525000.0\n"
          ]
        }
      ],
      "source": [
        "def tax_calculator():\n",
        "  print(1500000 * 0.35)\n",
        "\n",
        "tax_calculator()"
      ]
    },
    {
      "cell_type": "code",
      "source": [
        "def tax_calculator(salary):\n",
        "  print(salary * 0.35)\n",
        "\n",
        "tax_calculator(40000000)\n",
        "tax_calculator(400)"
      ],
      "metadata": {
        "colab": {
          "base_uri": "https://localhost:8080/"
        },
        "id": "-irlM_Y06R78",
        "outputId": "d01b2f1a-879d-4a15-8787-fcacbb32388d"
      },
      "execution_count": null,
      "outputs": [
        {
          "output_type": "stream",
          "name": "stdout",
          "text": [
            "14000000.0\n",
            "140.0\n"
          ]
        }
      ]
    },
    {
      "cell_type": "code",
      "source": [],
      "metadata": {
        "id": "BjtKqVyX641C"
      },
      "execution_count": null,
      "outputs": []
    }
  ]
}