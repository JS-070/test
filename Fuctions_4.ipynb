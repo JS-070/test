{
  "nbformat": 4,
  "nbformat_minor": 0,
  "metadata": {
    "colab": {
      "provenance": [],
      "authorship_tag": "ABX9TyProPeh8H5viRjwTkknOe63",
      "include_colab_link": true
    },
    "kernelspec": {
      "name": "python3",
      "display_name": "Python 3"
    },
    "language_info": {
      "name": "python"
    }
  },
  "cells": [
    {
      "cell_type": "markdown",
      "metadata": {
        "id": "view-in-github",
        "colab_type": "text"
      },
      "source": [
        "<a href=\"https://colab.research.google.com/github/JS-070/test/blob/main/Fuctions_4.ipynb\" target=\"_parent\"><img src=\"https://colab.research.google.com/assets/colab-badge.svg\" alt=\"Open In Colab\"/></a>"
      ]
    },
    {
      "cell_type": "markdown",
      "source": [
        "#Functions의 특징\n",
        "### 1. 한 번 작성하면, 계속해서 사용이 가능하다.\n",
        "### 2. 파이썬에서 Funcion을 만들 때는 무조건 def를 적어줘야 한다.\n",
        "### 3. Funcion안의 코드를 실행해주기 위해서는, ()가 필요하다.\n",
        "####-> 예를들어, print(\"hello world\")를 실행시켜주기 위해 하는 행동과 같다."
      ],
      "metadata": {
        "id": "LVJTYcNM0A-P"
      }
    },
    {
      "cell_type": "code",
      "execution_count": 2,
      "metadata": {
        "colab": {
          "base_uri": "https://localhost:8080/"
        },
        "id": "2KUp4d-kyl_8",
        "outputId": "e2d518e4-c0c5-422b-c3cc-b081cfb80d6e"
      },
      "outputs": [
        {
          "output_type": "stream",
          "name": "stdout",
          "text": [
            "hello how r u?\n"
          ]
        }
      ],
      "source": [
        "def say_hello():\n",
        "  print(\"hello how r u?\")\n",
        "\n",
        "say_hello()"
      ]
    },
    {
      "cell_type": "code",
      "source": [],
      "metadata": {
        "id": "vAMIPUkfnHU_"
      },
      "execution_count": null,
      "outputs": []
    }
  ]
}