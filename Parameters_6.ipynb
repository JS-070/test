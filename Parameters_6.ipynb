{
  "nbformat": 4,
  "nbformat_minor": 0,
  "metadata": {
    "colab": {
      "provenance": [],
      "authorship_tag": "ABX9TyOUD+CbhXZgQ2UBrzTzg52h",
      "include_colab_link": true
    },
    "kernelspec": {
      "name": "python3",
      "display_name": "Python 3"
    },
    "language_info": {
      "name": "python"
    }
  },
  "cells": [
    {
      "cell_type": "markdown",
      "metadata": {
        "id": "view-in-github",
        "colab_type": "text"
      },
      "source": [
        "<a href=\"https://colab.research.google.com/github/JS-070/test/blob/main/Parameters_6.ipynb\" target=\"_parent\"><img src=\"https://colab.research.google.com/assets/colab-badge.svg\" alt=\"Open In Colab\"/></a>"
      ]
    },
    {
      "cell_type": "markdown",
      "source": [
        "# Parameters\n",
        "#### 1. say_hello(name)에서 name을 parameter이라고 부른다.\n",
        "#### 2. say_hello(\"Jisu\")에서 실제로 전달한 데이터 Jisu를 argument라고 부른다."
      ],
      "metadata": {
        "id": "YimrXMpMxj2e"
      }
    },
    {
      "cell_type": "code",
      "execution_count": null,
      "metadata": {
        "id": "7cIydJhUxK_5"
      },
      "outputs": [],
      "source": [
        "def say_hello():\n",
        "  print(\"Hello how r u?\")\n",
        "\n",
        "say_hello(\"Jisu\")"
      ]
    },
    {
      "cell_type": "markdown",
      "source": [
        "### 위의 코드는 결과 값이 나오지 않는다.\n",
        "\n",
        "#### 이유는?\n",
        "#### say_hello()처럼 괄호를 쓰면 그건 실행 버튼을 느르는 것과 같다. 그래서 실행을 누르면 데이터를 say_hello() funcion으로 보내고 있는데,\n",
        "#### say_hello() function에서는 데이터를 받을 준비가 되어 있지 않다.\n",
        "\n",
        "#### 결과적으로, Jisu라는 값을 나타내기 위해서는 say_hello() function에 데이터가 들어갈 수 있는 공간을 제공해 주어야 한다."
      ],
      "metadata": {
        "id": "sfMdd0W5x_9Q"
      }
    },
    {
      "cell_type": "code",
      "source": [
        "def say_hello(name):\n",
        "  print(\"Hello\", name, \"how r u?\")\n",
        "\n",
        "say_hello(\"Jisu\")"
      ],
      "metadata": {
        "colab": {
          "base_uri": "https://localhost:8080/"
        },
        "id": "fLwFs5ogzHtk",
        "outputId": "6597c716-274c-488f-8274-073ffe00aecb"
      },
      "execution_count": 3,
      "outputs": [
        {
          "output_type": "stream",
          "name": "stdout",
          "text": [
            "Hello Jisu how r u?\n"
          ]
        }
      ]
    }
  ]
}