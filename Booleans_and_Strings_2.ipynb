{
  "nbformat": 4,
  "nbformat_minor": 0,
  "metadata": {
    "colab": {
      "provenance": [],
      "authorship_tag": "ABX9TyMHbkHZqxnuyF7aErt8GCMc",
      "include_colab_link": true
    },
    "kernelspec": {
      "name": "python3",
      "display_name": "Python 3"
    },
    "language_info": {
      "name": "python"
    }
  },
  "cells": [
    {
      "cell_type": "markdown",
      "metadata": {
        "id": "view-in-github",
        "colab_type": "text"
      },
      "source": [
        "<a href=\"https://colab.research.google.com/github/JS-070/test/blob/main/Booleans_and_Strings_2.ipynb\" target=\"_parent\"><img src=\"https://colab.research.google.com/assets/colab-badge.svg\" alt=\"Open In Colab\"/></a>"
      ]
    },
    {
      "cell_type": "markdown",
      "source": [
        "# 변수의 특징\n",
        "### 1. 변수에 숫자가 아닌 문자를 저장하고 싶다면, 따옴표를 사용하여 문자열이라고 알려주어야 한다.\n",
        "#####-> 숫자를 따옴표안에 넣어도, 그 숫자는 문자로 표현된다."
      ],
      "metadata": {
        "id": "9CJU0hbBKWYV"
      }
    },
    {
      "cell_type": "code",
      "execution_count": 1,
      "metadata": {
        "colab": {
          "base_uri": "https://localhost:8080/"
        },
        "id": "-6y4bIh5J2-o",
        "outputId": "604bcf22-321f-46d0-ca18-7be4d313e671"
      },
      "outputs": [
        {
          "output_type": "stream",
          "name": "stdout",
          "text": [
            "Jisu\n"
          ]
        }
      ],
      "source": [
        "my_name = \"Jisu\"\n",
        "print(my_name)"
      ]
    },
    {
      "cell_type": "markdown",
      "source": [
        "# Boolean\n",
        "### False = 0 / True = 1\n",
        "### F와 T는 무조건 대문자로!!!"
      ],
      "metadata": {
        "id": "LURMvn3MOetK"
      }
    },
    {
      "cell_type": "code",
      "source": [
        "dead = False"
      ],
      "metadata": {
        "id": "Wp6JSPKtN-YI"
      },
      "execution_count": null,
      "outputs": []
    }
  ]
}